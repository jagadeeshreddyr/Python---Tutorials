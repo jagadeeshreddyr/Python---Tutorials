{
 "cells": [
  {
   "cell_type": "markdown",
   "id": "febf86e2",
   "metadata": {},
   "source": [
    "# LEGB\n",
    "   \n",
    "   > **Local Enclose Global Built-in**.\n",
    "<hr style=\"border:2px solid green\">  \n",
    "   \n",
    "## Local Rule"
   ]
  },
  {
   "cell_type": "code",
   "execution_count": 3,
   "id": "ea95a507",
   "metadata": {},
   "outputs": [
    {
     "name": "stdout",
     "output_type": "stream",
     "text": [
      "inner\n",
      "outer\n"
     ]
    }
   ],
   "source": [
    "out = \"outer\"\n",
    "\n",
    "def f1():\n",
    "    \n",
    "    out = \"inner\"\n",
    "    \n",
    "    print(out)\n",
    "    \n",
    "f1()        #inner\n",
    "print(out)  #outer"
   ]
  },
  {
   "cell_type": "markdown",
   "id": "f6f4904f",
   "metadata": {},
   "source": [
    "\n",
    "\n",
    "- local variable out defined inside the scope \n",
    "- global variable out which is defined outside the function\n",
    "- So the first rule is finding Local variable out = Prints('inner') and then global variable out = Prints('outer')\n",
    "    \n",
    "<span style=\"color:red\"> what if i comment out variable inside loop ? </span>\n",
    " "
   ]
  },
  {
   "cell_type": "code",
   "execution_count": 7,
   "id": "5b32472a",
   "metadata": {
    "scrolled": true
   },
   "outputs": [
    {
     "name": "stdout",
     "output_type": "stream",
     "text": [
      "outer\n",
      "outer\n"
     ]
    }
   ],
   "source": [
    "\n",
    "\n",
    "out = \"outer\"\n",
    "\n",
    "def f1():\n",
    "    \n",
    "    #out = \"inner\"\n",
    "    \n",
    "    print(out)\n",
    "    \n",
    "f1()        #outer\n",
    "print(out)  #outer"
   ]
  },
  {
   "cell_type": "markdown",
   "id": "f85a2c4a",
   "metadata": {},
   "source": [
    "- we can see local variable is commented so python tries to find the variable outside the scope and prints it\n",
    "\n",
    "<hr style=\"border:2px solid Black\">\n",
    "\n",
    "\n",
    "## Enclose Rule"
   ]
  },
  {
   "cell_type": "code",
   "execution_count": 2,
   "id": "773c8862",
   "metadata": {},
   "outputs": [
    {
     "name": "stdout",
     "output_type": "stream",
     "text": [
      "f2\n",
      "f1\n"
     ]
    }
   ],
   "source": [
    "def f1():\n",
    "    out = 'f1'\n",
    "    \n",
    "    def f2():\n",
    "    \n",
    "        out = 'f2'\n",
    "        print(out)\n",
    "    f2()\n",
    "    print(out)\n",
    "    \n",
    "##calling the function\n",
    "f1() # f2\n",
    "     # f1"
   ]
  },
  {
   "cell_type": "markdown",
   "id": "08eed00d",
   "metadata": {},
   "source": [
    "\n",
    "- I have modified the code with inner function \n",
    "- so the same rule is applied here first it will search the variable with enclosed scope a\n",
    "- It will print the out defined in f2 and then prints out of f1 because it is printed after f2 is called\n",
    "- But f2 as the access f1 variable\n",
    "    \n",
    "\n",
    "    \n",
    "<span style=\"color:red\"> we will comment f2 variable and see what happens ?</span>. "
   ]
  },
  {
   "cell_type": "code",
   "execution_count": 3,
   "id": "e06c1b7c",
   "metadata": {},
   "outputs": [
    {
     "name": "stdout",
     "output_type": "stream",
     "text": [
      "f1\n",
      "f1\n"
     ]
    }
   ],
   "source": [
    "def f1():\n",
    "    out = 'f1'\n",
    "    \n",
    "    def f2():\n",
    "    \n",
    "        #out = 'f2'\n",
    "        print(out) \n",
    "    f2()\n",
    "    print(out)\n",
    "    \n",
    "##calling the function\n",
    "f1() # f1\n",
    "     # f1"
   ]
  },
  {
   "cell_type": "markdown",
   "id": "59b1f785",
   "metadata": {},
   "source": [
    "- we can see since there is no variable is defined inside f2 it will look outside the scope and finds in f1\n",
    "\n",
    "<span style=\"color:red\"> what will happen if we comment in f1 ?</span>. "
   ]
  },
  {
   "cell_type": "code",
   "execution_count": null,
   "id": "b6a9822f",
   "metadata": {},
   "outputs": [],
   "source": [
    "import os\n",
    "os._exit(00)"
   ]
  },
  {
   "cell_type": "code",
   "execution_count": 1,
   "id": "3727bdf9",
   "metadata": {},
   "outputs": [
    {
     "name": "stdout",
     "output_type": "stream",
     "text": [
      "f2\n"
     ]
    },
    {
     "ename": "NameError",
     "evalue": "name 'out' is not defined",
     "output_type": "error",
     "traceback": [
      "\u001b[1;31m---------------------------------------------------------------------------\u001b[0m",
      "\u001b[1;31mNameError\u001b[0m                                 Traceback (most recent call last)",
      "Input \u001b[1;32mIn [1]\u001b[0m, in \u001b[0;36m<cell line: 12>\u001b[1;34m()\u001b[0m\n\u001b[0;32m      9\u001b[0m     \u001b[38;5;28mprint\u001b[39m(out)\n\u001b[0;32m     11\u001b[0m \u001b[38;5;66;03m##calling the function\u001b[39;00m\n\u001b[1;32m---> 12\u001b[0m \u001b[43mf1\u001b[49m\u001b[43m(\u001b[49m\u001b[43m)\u001b[49m\n",
      "Input \u001b[1;32mIn [1]\u001b[0m, in \u001b[0;36mf1\u001b[1;34m()\u001b[0m\n\u001b[0;32m      7\u001b[0m     \u001b[38;5;28mprint\u001b[39m(out) \n\u001b[0;32m      8\u001b[0m f2()\n\u001b[1;32m----> 9\u001b[0m \u001b[38;5;28mprint\u001b[39m(\u001b[43mout\u001b[49m)\n",
      "\u001b[1;31mNameError\u001b[0m: name 'out' is not defined"
     ]
    }
   ],
   "source": [
    "\n",
    "def f1():\n",
    "    #out = 'f1'\n",
    "    \n",
    "    def f2():\n",
    "    \n",
    "        out = 'f2'\n",
    "        print(out) \n",
    "    f2()\n",
    "    print(out)\n",
    "    \n",
    "##calling the function\n",
    "f1() \n",
    "    "
   ]
  },
  {
   "cell_type": "markdown",
   "id": "d530b761",
   "metadata": {},
   "source": [
    "- We can see out variable is not defined in f1 and gives the error the out is not defined \n",
    "- Here comes the keyword **nonlocal** will affect f1 scope variable also. "
   ]
  },
  {
   "cell_type": "markdown",
   "id": "353f8f61",
   "metadata": {},
   "source": [
    "<div class=\"alert alert-block alert-info\">\n",
    "<b>keyword: nonlocal</b> \n",
    "</div>"
   ]
  },
  {
   "cell_type": "code",
   "execution_count": 8,
   "id": "d5f3672a",
   "metadata": {},
   "outputs": [
    {
     "name": "stdout",
     "output_type": "stream",
     "text": [
      "f2\n",
      "f2\n"
     ]
    }
   ],
   "source": [
    "def f1():\n",
    "    out = 'f1'\n",
    "    \n",
    "    def f2():\n",
    "        nonlocal out\n",
    "        out = 'f2'\n",
    "        print(out) \n",
    "    f2()\n",
    "    print(out)\n",
    "    \n",
    "##calling the function\n",
    "f1() #f2\n",
    "     #f2"
   ]
  },
  {
   "cell_type": "markdown",
   "id": "f62a753f",
   "metadata": {},
   "source": [
    "- From the above we can see **nonlocal** can affect the variable of f1 scope. \n",
    "\n",
    "<hr style=\"border:2px solid lightblue\">\n",
    "\n",
    "## Global rule\n",
    "\n",
    "<div class=\"alert alert-block alert-info\">\n",
    "<b>keyword: global</b> \n",
    "</div>\n",
    "\n",
    "- I am using local rule function \n",
    "\n",
    "<span style=\"color:red\"> what if we comment global scope out variable ?  <span>"
   ]
  },
  {
   "cell_type": "code",
   "execution_count": null,
   "id": "c81e3f8f",
   "metadata": {},
   "outputs": [],
   "source": [
    "import os\n",
    "os._exit(00) ##restart cell "
   ]
  },
  {
   "cell_type": "code",
   "execution_count": 1,
   "id": "369a030e",
   "metadata": {},
   "outputs": [
    {
     "ename": "NameError",
     "evalue": "name 'out' is not defined",
     "output_type": "error",
     "traceback": [
      "\u001b[1;31m---------------------------------------------------------------------------\u001b[0m",
      "\u001b[1;31mNameError\u001b[0m                                 Traceback (most recent call last)",
      "Input \u001b[1;32mIn [1]\u001b[0m, in \u001b[0;36m<cell line: 10>\u001b[1;34m()\u001b[0m\n\u001b[0;32m      7\u001b[0m     \u001b[38;5;28mprint\u001b[39m(out)\n\u001b[0;32m      9\u001b[0m f1()\n\u001b[1;32m---> 10\u001b[0m \u001b[38;5;28mprint\u001b[39m(\u001b[43mout\u001b[49m)\n",
      "\u001b[1;31mNameError\u001b[0m: name 'out' is not defined"
     ]
    }
   ],
   "source": [
    "#out = \"outer\"\n",
    "\n",
    "def f1():\n",
    "    \n",
    "    out = \"inner\"\n",
    "    \n",
    "    print(out)\n",
    "    \n",
    "f1()\n",
    "print(out)"
   ]
  },
  {
   "cell_type": "markdown",
   "id": "0026e472",
   "metadata": {},
   "source": [
    "- It throwed the error out is defined \n",
    "- I will use keyword **global** and see what happens\n",
    "- Global rule is applied"
   ]
  },
  {
   "cell_type": "code",
   "execution_count": 1,
   "id": "4cd8d5ed",
   "metadata": {},
   "outputs": [
    {
     "name": "stdout",
     "output_type": "stream",
     "text": [
      "inner\n",
      "inner\n"
     ]
    }
   ],
   "source": [
    "#out = \"outer\"\n",
    "\n",
    "def f1():\n",
    "    global out\n",
    "    out = \"inner\"\n",
    "    \n",
    "    print(out)\n",
    "    \n",
    "##calling the function\n",
    "f1()        #inner\n",
    "print(out)  #inner"
   ]
  },
  {
   "cell_type": "markdown",
   "id": "76d5db84",
   "metadata": {},
   "source": [
    "- we can see the variable global will affect outside the function also \n",
    "\n",
    "<hr style=\"border:2px solid #99bd9c\">\n",
    "\n",
    "\n",
    "## Build-IN"
   ]
  },
  {
   "cell_type": "markdown",
   "id": "605aa294",
   "metadata": {},
   "source": [
    "<div class=\"alert alert-block alert-info\">\n",
    "<b>keyword: buildins</b> \n",
    "\n",
    "</div>"
   ]
  },
  {
   "cell_type": "code",
   "execution_count": 7,
   "id": "7a35cbfc",
   "metadata": {},
   "outputs": [
    {
     "data": {
      "text/plain": [
       "['ArithmeticError',\n",
       " 'AssertionError',\n",
       " 'AttributeError',\n",
       " 'BaseException',\n",
       " 'BlockingIOError',\n",
       " 'BrokenPipeError',\n",
       " 'BufferError',\n",
       " 'BytesWarning',\n",
       " 'ChildProcessError',\n",
       " 'ConnectionAbortedError',\n",
       " 'ConnectionError',\n",
       " 'ConnectionRefusedError',\n",
       " 'ConnectionResetError',\n",
       " 'DeprecationWarning',\n",
       " 'EOFError',\n",
       " 'Ellipsis',\n",
       " 'EnvironmentError',\n",
       " 'Exception',\n",
       " 'False',\n",
       " 'FileExistsError',\n",
       " 'FileNotFoundError',\n",
       " 'FloatingPointError',\n",
       " 'FutureWarning',\n",
       " 'GeneratorExit',\n",
       " 'IOError',\n",
       " 'ImportError',\n",
       " 'ImportWarning',\n",
       " 'IndentationError',\n",
       " 'IndexError',\n",
       " 'InterruptedError',\n",
       " 'IsADirectoryError',\n",
       " 'KeyError',\n",
       " 'KeyboardInterrupt',\n",
       " 'LookupError',\n",
       " 'MemoryError',\n",
       " 'ModuleNotFoundError',\n",
       " 'NameError',\n",
       " 'None',\n",
       " 'NotADirectoryError',\n",
       " 'NotImplemented',\n",
       " 'NotImplementedError',\n",
       " 'OSError',\n",
       " 'OverflowError',\n",
       " 'PendingDeprecationWarning',\n",
       " 'PermissionError',\n",
       " 'ProcessLookupError',\n",
       " 'RecursionError',\n",
       " 'ReferenceError',\n",
       " 'ResourceWarning',\n",
       " 'RuntimeError',\n",
       " 'RuntimeWarning',\n",
       " 'StopAsyncIteration',\n",
       " 'StopIteration',\n",
       " 'SyntaxError',\n",
       " 'SyntaxWarning',\n",
       " 'SystemError',\n",
       " 'SystemExit',\n",
       " 'TabError',\n",
       " 'TimeoutError',\n",
       " 'True',\n",
       " 'TypeError',\n",
       " 'UnboundLocalError',\n",
       " 'UnicodeDecodeError',\n",
       " 'UnicodeEncodeError',\n",
       " 'UnicodeError',\n",
       " 'UnicodeTranslateError',\n",
       " 'UnicodeWarning',\n",
       " 'UserWarning',\n",
       " 'ValueError',\n",
       " 'Warning',\n",
       " 'WindowsError',\n",
       " 'ZeroDivisionError',\n",
       " '__IPYTHON__',\n",
       " '__build_class__',\n",
       " '__debug__',\n",
       " '__doc__',\n",
       " '__import__',\n",
       " '__loader__',\n",
       " '__name__',\n",
       " '__package__',\n",
       " '__spec__',\n",
       " 'abs',\n",
       " 'all',\n",
       " 'any',\n",
       " 'ascii',\n",
       " 'bin',\n",
       " 'bool',\n",
       " 'breakpoint',\n",
       " 'bytearray',\n",
       " 'bytes',\n",
       " 'callable',\n",
       " 'chr',\n",
       " 'classmethod',\n",
       " 'compile',\n",
       " 'complex',\n",
       " 'copyright',\n",
       " 'credits',\n",
       " 'delattr',\n",
       " 'dict',\n",
       " 'dir',\n",
       " 'display',\n",
       " 'divmod',\n",
       " 'enumerate',\n",
       " 'eval',\n",
       " 'exec',\n",
       " 'execfile',\n",
       " 'filter',\n",
       " 'float',\n",
       " 'format',\n",
       " 'frozenset',\n",
       " 'get_ipython',\n",
       " 'getattr',\n",
       " 'globals',\n",
       " 'hasattr',\n",
       " 'hash',\n",
       " 'help',\n",
       " 'hex',\n",
       " 'id',\n",
       " 'input',\n",
       " 'int',\n",
       " 'isinstance',\n",
       " 'issubclass',\n",
       " 'iter',\n",
       " 'len',\n",
       " 'license',\n",
       " 'list',\n",
       " 'locals',\n",
       " 'map',\n",
       " 'max',\n",
       " 'memoryview',\n",
       " 'min',\n",
       " 'next',\n",
       " 'object',\n",
       " 'oct',\n",
       " 'open',\n",
       " 'ord',\n",
       " 'pow',\n",
       " 'print',\n",
       " 'property',\n",
       " 'range',\n",
       " 'repr',\n",
       " 'reversed',\n",
       " 'round',\n",
       " 'runfile',\n",
       " 'set',\n",
       " 'setattr',\n",
       " 'slice',\n",
       " 'sorted',\n",
       " 'staticmethod',\n",
       " 'str',\n",
       " 'sum',\n",
       " 'super',\n",
       " 'tuple',\n",
       " 'type',\n",
       " 'vars',\n",
       " 'zip']"
      ]
     },
     "execution_count": 7,
     "metadata": {},
     "output_type": "execute_result"
    }
   ],
   "source": [
    "import builtins\n",
    "list(dir(builtins))"
   ]
  },
  {
   "cell_type": "markdown",
   "id": "f3cdd0db",
   "metadata": {},
   "source": [
    "- we can see all the build-in functions and methods in the above cell\n",
    "\n",
    "<span style=\"color:red\"> how can build in function used ?  <span>\n",
    "   \n",
    "   > I will use keyword **max**. to explain this one."
   ]
  },
  {
   "cell_type": "code",
   "execution_count": 2,
   "id": "91fc9a30",
   "metadata": {},
   "outputs": [
    {
     "data": {
      "text/plain": [
       "5"
      ]
     },
     "execution_count": 2,
     "metadata": {},
     "output_type": "execute_result"
    }
   ],
   "source": [
    "max([1,2,3,4,5])"
   ]
  },
  {
   "cell_type": "markdown",
   "id": "ca78afe6",
   "metadata": {},
   "source": [
    "- **max** will give the largest element \n",
    "- I will now change **max** functionality to addition "
   ]
  },
  {
   "cell_type": "code",
   "execution_count": 1,
   "id": "d9270bd5",
   "metadata": {},
   "outputs": [
    {
     "data": {
      "text/plain": [
       "2"
      ]
     },
     "execution_count": 1,
     "metadata": {},
     "output_type": "execute_result"
    }
   ],
   "source": [
    "def max(a, b):\n",
    "    return a+b\n",
    "\n",
    "max(1,2)"
   ]
  },
  {
   "cell_type": "markdown",
   "id": "2cecb87d",
   "metadata": {},
   "source": [
    "- So python will first search the max function locally and it is modified to addition function so it gives the addition result\n",
    "\n",
    "<span style=\"color:red\"> lets comment max function and see ?  <span>"
   ]
  },
  {
   "cell_type": "code",
   "execution_count": null,
   "id": "50411864",
   "metadata": {},
   "outputs": [],
   "source": [
    "import os\n",
    "os._exit(00)"
   ]
  },
  {
   "cell_type": "code",
   "execution_count": 1,
   "id": "5fa1af1e",
   "metadata": {},
   "outputs": [
    {
     "data": {
      "text/plain": [
       "2"
      ]
     },
     "execution_count": 1,
     "metadata": {},
     "output_type": "execute_result"
    }
   ],
   "source": [
    "# def max(a, b):\n",
    "#     return a+b\n",
    "\n",
    "max(1,2)"
   ]
  },
  {
   "cell_type": "markdown",
   "id": "715e2d66",
   "metadata": {},
   "source": [
    "- now it doesnt find any function with max so it will take in-build function and gives maximum number"
   ]
  },
  {
   "cell_type": "markdown",
   "id": "b872f7b1",
   "metadata": {},
   "source": [
    "<div class=\"alert alert-block alert-info\">\n",
    "<b> Note: This notebook file was created for python beginners. If there are some mistake in any explantation send me merge request. Thank you </b> \n",
    "</div>"
   ]
  },
  {
   "cell_type": "markdown",
   "id": "ac1ce650",
   "metadata": {},
   "source": [
    "# End"
   ]
  }
 ],
 "metadata": {
  "kernelspec": {
   "display_name": "Python 3 (ipykernel)",
   "language": "python",
   "name": "python3"
  },
  "language_info": {
   "codemirror_mode": {
    "name": "ipython",
    "version": 3
   },
   "file_extension": ".py",
   "mimetype": "text/x-python",
   "name": "python",
   "nbconvert_exporter": "python",
   "pygments_lexer": "ipython3",
   "version": "3.9.7"
  }
 },
 "nbformat": 4,
 "nbformat_minor": 5
}
