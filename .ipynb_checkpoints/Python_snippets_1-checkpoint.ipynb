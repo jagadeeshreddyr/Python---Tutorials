{
 "cells": [
  {
   "cell_type": "markdown",
   "id": "fc2ba903",
   "metadata": {},
   "source": [
    "# 1 -  Find the largest element in an array"
   ]
  },
  {
   "cell_type": "code",
   "execution_count": 1,
   "id": "61b0bc88",
   "metadata": {},
   "outputs": [],
   "source": [
    "arr = [38, 85, 4426, 254, 127]"
   ]
  },
  {
   "cell_type": "markdown",
   "id": "d0310c1b",
   "metadata": {},
   "source": [
    "**1. In-build keyword sorted**"
   ]
  },
  {
   "cell_type": "code",
   "execution_count": 5,
   "id": "4137bcac",
   "metadata": {
    "scrolled": true
   },
   "outputs": [
    {
     "data": {
      "text/plain": [
       "4426"
      ]
     },
     "execution_count": 5,
     "metadata": {},
     "output_type": "execute_result"
    }
   ],
   "source": [
    "sorted(arr, reverse = True)[0]"
   ]
  },
  {
   "cell_type": "markdown",
   "id": "aea82aa4",
   "metadata": {},
   "source": [
    "**2. Forloop**"
   ]
  },
  {
   "cell_type": "code",
   "execution_count": 8,
   "id": "0ba4ba84",
   "metadata": {},
   "outputs": [
    {
     "data": {
      "text/plain": [
       "4426"
      ]
     },
     "execution_count": 8,
     "metadata": {},
     "output_type": "execute_result"
    }
   ],
   "source": [
    "lre = arr[0]\n",
    "for i in range(1,len(arr)):\n",
    "    \n",
    "    if lre < arr[i]:\n",
    "        lre = arr[i]\n",
    "lre"
   ]
  },
  {
   "cell_type": "markdown",
   "id": "02ca46b9",
   "metadata": {},
   "source": [
    "**3. In-build keyword max**"
   ]
  },
  {
   "cell_type": "code",
   "execution_count": 9,
   "id": "0a2f67a3",
   "metadata": {},
   "outputs": [
    {
     "data": {
      "text/plain": [
       "4426"
      ]
     },
     "execution_count": 9,
     "metadata": {},
     "output_type": "execute_result"
    }
   ],
   "source": [
    "max(arr)"
   ]
  },
  {
   "cell_type": "markdown",
   "id": "c28bfc10",
   "metadata": {},
   "source": [
    "# 2 - Array rotation left n"
   ]
  },
  {
   "cell_type": "code",
   "execution_count": 11,
   "id": "1d06c29f",
   "metadata": {},
   "outputs": [],
   "source": [
    "arr = [1, 2, 3, 4, 5, 6, 7, 8] #output = [7, 8, 1, 2, 3, 4, 5, 6,] if n =2 "
   ]
  },
  {
   "cell_type": "code",
   "execution_count": 13,
   "id": "596ef81f",
   "metadata": {},
   "outputs": [
    {
     "data": {
      "text/plain": [
       "[1, 2]"
      ]
     },
     "execution_count": 13,
     "metadata": {},
     "output_type": "execute_result"
    }
   ],
   "source": [
    "arr[:2]"
   ]
  },
  {
   "cell_type": "code",
   "execution_count": null,
   "id": "d007f055",
   "metadata": {},
   "outputs": [],
   "source": []
  }
 ],
 "metadata": {
  "kernelspec": {
   "display_name": "ml",
   "language": "python",
   "name": "myenv"
  },
  "language_info": {
   "codemirror_mode": {
    "name": "ipython",
    "version": 3
   },
   "file_extension": ".py",
   "mimetype": "text/x-python",
   "name": "python",
   "nbconvert_exporter": "python",
   "pygments_lexer": "ipython3",
   "version": "3.10.6"
  }
 },
 "nbformat": 4,
 "nbformat_minor": 5
}
