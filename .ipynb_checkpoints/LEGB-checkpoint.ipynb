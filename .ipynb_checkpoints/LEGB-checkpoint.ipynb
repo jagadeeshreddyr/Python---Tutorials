{
 "cells": [
  {
   "cell_type": "markdown",
   "id": "febf86e2",
   "metadata": {},
   "source": [
    "##LEGB"
   ]
  },
  {
   "cell_type": "code",
   "execution_count": 2,
   "id": "ea95a507",
   "metadata": {},
   "outputs": [
    {
     "name": "stdout",
     "output_type": "stream",
     "text": [
      "inner\n",
      "outter\n"
     ]
    }
   ],
   "source": [
    "out = \"outter\"\n",
    "\n",
    "def f1():\n",
    "    \n",
    "    out = \"inner\"\n",
    "    \n",
    "    print(out)\n",
    "    \n",
    "f1()\n",
    "print(out)"
   ]
  },
  {
   "cell_type": "markdown",
   "id": "f6f4904f",
   "metadata": {},
   "source": [
    "***\n",
    "1. In the above function the LEGB rule is applied \n",
    "    - Python finds for local variable out inside the scope \n",
    "    - There is gloval variable out which is defined outside the function "
   ]
  },
  {
   "cell_type": "code",
   "execution_count": null,
   "id": "5b32472a",
   "metadata": {},
   "outputs": [],
   "source": []
  }
 ],
 "metadata": {
  "kernelspec": {
   "display_name": "ml",
   "language": "python",
   "name": "myenv"
  },
  "language_info": {
   "codemirror_mode": {
    "name": "ipython",
    "version": 3
   },
   "file_extension": ".py",
   "mimetype": "text/x-python",
   "name": "python",
   "nbconvert_exporter": "python",
   "pygments_lexer": "ipython3",
   "version": "3.10.6"
  }
 },
 "nbformat": 4,
 "nbformat_minor": 5
}
