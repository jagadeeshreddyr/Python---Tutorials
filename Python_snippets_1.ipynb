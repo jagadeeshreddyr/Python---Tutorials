{
 "cells": [
  {
   "cell_type": "markdown",
   "id": "f3332147",
   "metadata": {},
   "source": [
    "# 1 -  Find the largest element in an array"
   ]
  },
  {
   "cell_type": "code",
   "execution_count": 1,
   "id": "db1270ff",
   "metadata": {},
   "outputs": [],
   "source": [
    "arr = [38, 85, 4426, 254, 127]"
   ]
  },
  {
   "cell_type": "markdown",
   "id": "3e58c4bf",
   "metadata": {},
   "source": [
    "**1. In-build keyword sorted**"
   ]
  },
  {
   "cell_type": "code",
   "execution_count": 5,
   "id": "b2c010ae",
   "metadata": {
    "scrolled": true
   },
   "outputs": [
    {
     "data": {
      "text/plain": [
       "4426"
      ]
     },
     "execution_count": 5,
     "metadata": {},
     "output_type": "execute_result"
    }
   ],
   "source": [
    "sorted(arr, reverse = True)[0]"
   ]
  },
  {
   "cell_type": "markdown",
   "id": "a2c80e4d",
   "metadata": {},
   "source": [
    "**2. Forloop**"
   ]
  },
  {
   "cell_type": "code",
   "execution_count": 8,
   "id": "45275bab",
   "metadata": {},
   "outputs": [
    {
     "data": {
      "text/plain": [
       "4426"
      ]
     },
     "execution_count": 8,
     "metadata": {},
     "output_type": "execute_result"
    }
   ],
   "source": [
    "lre = arr[0]\n",
    "for i in range(1,len(arr)):\n",
    "    \n",
    "    if lre < arr[i]:\n",
    "        lre = arr[i]\n",
    "lre"
   ]
  },
  {
   "cell_type": "markdown",
   "id": "c74af5ea",
   "metadata": {},
   "source": [
    "**3. In-build keyword max**"
   ]
  },
  {
   "cell_type": "code",
   "execution_count": 9,
   "id": "99fc33ae",
   "metadata": {},
   "outputs": [
    {
     "data": {
      "text/plain": [
       "4426"
      ]
     },
     "execution_count": 9,
     "metadata": {},
     "output_type": "execute_result"
    }
   ],
   "source": [
    "max(arr)"
   ]
  },
  {
   "cell_type": "markdown",
   "id": "9f22d5ca",
   "metadata": {},
   "source": [
    "# 2 - Array rotation right by n"
   ]
  },
  {
   "cell_type": "code",
   "execution_count": 14,
   "id": "a6d291c4",
   "metadata": {},
   "outputs": [],
   "source": [
    "arr = [1, 2, 3, 4, 5, 6, 7, 8] #output = [7, 8, 1, 2, 3, 4, 5, 6] if n =2 "
   ]
  },
  {
   "cell_type": "code",
   "execution_count": 13,
   "id": "2f9e8f2d",
   "metadata": {},
   "outputs": [
    {
     "data": {
      "text/plain": [
       "[1, 2]"
      ]
     },
     "execution_count": 13,
     "metadata": {},
     "output_type": "execute_result"
    }
   ],
   "source": [
    "arr[:2] + "
   ]
  },
  {
   "cell_type": "code",
   "execution_count": 20,
   "id": "c7b0c633",
   "metadata": {},
   "outputs": [
    {
     "data": {
      "text/plain": [
       "[1, 2, 3, 4, 5, 6]"
      ]
     },
     "execution_count": 20,
     "metadata": {},
     "output_type": "execute_result"
    }
   ],
   "source": [
    "arr[:-2]"
   ]
  },
  {
   "cell_type": "code",
   "execution_count": null,
   "id": "cf185730",
   "metadata": {},
   "outputs": [],
   "source": []
  }
 ],
 "metadata": {
  "kernelspec": {
   "display_name": "ml",
   "language": "python",
   "name": "myenv"
  },
  "language_info": {
   "codemirror_mode": {
    "name": "ipython",
    "version": 3
   },
   "file_extension": ".py",
   "mimetype": "text/x-python",
   "name": "python",
   "nbconvert_exporter": "python",
   "pygments_lexer": "ipython3",
   "version": "3.10.6"
  }
 },
 "nbformat": 4,
 "nbformat_minor": 5
}
