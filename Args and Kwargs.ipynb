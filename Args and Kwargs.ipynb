{
 "cells": [
  {
   "cell_type": "markdown",
   "id": "65270ace",
   "metadata": {},
   "source": [
    "# Args and Kwargs"
   ]
  },
  {
   "cell_type": "code",
   "execution_count": 10,
   "id": "ac27b8a8",
   "metadata": {},
   "outputs": [
    {
     "name": "stdout",
     "output_type": "stream",
     "text": [
      "hello\n",
      "name\n"
     ]
    }
   ],
   "source": [
    "def f1(*args):\n",
    "    \n",
    "    for i in args:\n",
    "        \n",
    "        print(i)\n",
    "\n",
    "l1 = ['hello','name']        \n",
    "        \n",
    "f1(*l1)\n",
    "    "
   ]
  },
  {
   "cell_type": "code",
   "execution_count": 26,
   "id": "c1ab94d7",
   "metadata": {},
   "outputs": [
    {
     "data": {
      "text/plain": [
       "75"
      ]
     },
     "execution_count": 26,
     "metadata": {},
     "output_type": "execute_result"
    }
   ],
   "source": [
    "def f2(**kwargs):\n",
    "    \n",
    "#     x = kwargs['x']\n",
    "#     y = kwargs['y']\n",
    "    \n",
    "    z = sum(kwargs.values())\n",
    "    \n",
    "    return z\n",
    "\n",
    "d1 = {'x':5, 'y':10,'z':20, 'm': 40}\n",
    "\n",
    "f2(**d1)"
   ]
  },
  {
   "cell_type": "code",
   "execution_count": 23,
   "id": "2e9682c1",
   "metadata": {},
   "outputs": [
    {
     "data": {
      "text/plain": [
       "dict_values([5, 10])"
      ]
     },
     "execution_count": 23,
     "metadata": {},
     "output_type": "execute_result"
    }
   ],
   "source": [
    "d1.values()"
   ]
  },
  {
   "cell_type": "code",
   "execution_count": null,
   "id": "554e4b7c",
   "metadata": {},
   "outputs": [],
   "source": []
  }
 ],
 "metadata": {
  "kernelspec": {
   "display_name": "ml",
   "language": "python",
   "name": "myenv"
  },
  "language_info": {
   "codemirror_mode": {
    "name": "ipython",
    "version": 3
   },
   "file_extension": ".py",
   "mimetype": "text/x-python",
   "name": "python",
   "nbconvert_exporter": "python",
   "pygments_lexer": "ipython3",
   "version": "3.10.6"
  }
 },
 "nbformat": 4,
 "nbformat_minor": 5
}
